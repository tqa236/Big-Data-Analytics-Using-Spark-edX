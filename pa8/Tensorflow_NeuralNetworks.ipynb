{
 "cells": [
  {
   "cell_type": "markdown",
   "metadata": {
    "deletable": false,
    "editable": false,
    "nbgrader": {
     "grade": false,
     "grade_id": "cell-158395db1eb13989",
     "locked": true,
     "schema_version": 1,
     "solution": false
    }
   },
   "source": [
    " **<font size=5>Programming Assignment 8: Neural Networks with Tensorflow</font>**"
   ]
  },
  {
   "cell_type": "markdown",
   "metadata": {
    "deletable": false,
    "editable": false,
    "nbgrader": {
     "grade": false,
     "grade_id": "cell-c303936544fce875",
     "locked": true,
     "schema_version": 1,
     "solution": false
    }
   },
   "source": [
    "## Problem Statement\n",
    "\n",
    "In this programming assignment, you will write Tensorflow code to distinguish between a signal process which produces Higgs bosons and a background process which does not. We model this problem as a binary classification problem. \n",
    "\n",
    "Note: This assignment is not designed to make you a professional Tensorflow programmer, but rather to introduce you to, and make you practice, the basic constructs and functionalities of Tensorflow. "
   ]
  },
  {
   "cell_type": "markdown",
   "metadata": {
    "deletable": false,
    "editable": false,
    "nbgrader": {
     "grade": false,
     "grade_id": "cell-9cedd227ae71fb17",
     "locked": true,
     "schema_version": 1,
     "solution": false
    }
   },
   "source": [
    "### CPU vs GPU\n",
    "\n",
    "You may want to read [this article](https://www.analyticsvidhya.com/blog/2017/05/gpus-necessary-for-deep-learning/) to know more about the CPU vs GPU discussion. This is totally optional, still highly recommended for those who are interested. \n",
    "\n",
    "You do not need to write any \"GPU specific\" code. Tensorflow automatically recognizes the underlying hardware, and optimizes your code to run accordingly.\n",
    "\n",
    "The most common bottleneck to training faster with a GPU is usually the speed at which data is fed to the GPU for processing. So the input data pipeline is an important construct when writing efficient, scalable code to train Neural networks using Tensorflow."
   ]
  },
  {
   "cell_type": "markdown",
   "metadata": {
    "deletable": false,
    "editable": false,
    "nbgrader": {
     "grade": false,
     "grade_id": "cell-f87b642b5252980b",
     "locked": true,
     "schema_version": 1,
     "solution": false
    }
   },
   "source": [
    "### Dataset\n",
    "\n",
    "For this assignment, we will use sampled data from a well known dataset: [Higgs Dataset](https://archive.ics.uci.edu/ml/datasets/HIGGS). \n",
    "\n",
    "Some information regarding the data and the problem: \n",
    "\n",
    "This is a classification problem to distinguish between a signal process which produces Higgs bosons and a background process which does not. The data has been produced using Monte Carlo simulations. The first 21 features (columns 2-22) are kinematic properties measured by the particle detectors in the accelerator. The last seven features are functions of the first 21 features; these are high-level features derived by physicists to help discriminate between the two classes."
   ]
  },
  {
   "cell_type": "markdown",
   "metadata": {
    "deletable": false,
    "editable": false,
    "nbgrader": {
     "grade": false,
     "grade_id": "cell-0f1b9f41248e8378",
     "locked": true,
     "schema_version": 1,
     "solution": false
    }
   },
   "source": [
    "The train and test files have the following characteristics:\n",
    "\n",
    "- The first row is a header that contains a comma-separated list of the names of the label and attributes\n",
    "- Each successive row represents a single example\n",
    "- The first column of each example is the label to be learned, and all other columns are attribute values.\n",
    "- All attributes are numerical i.e. real numbers."
   ]
  },
  {
   "cell_type": "markdown",
   "metadata": {
    "deletable": false,
    "editable": false,
    "nbgrader": {
     "grade": false,
     "grade_id": "cell-fc620c75541dd80e",
     "locked": true,
     "schema_version": 1,
     "solution": false
    }
   },
   "source": [
    "### Testing and Evaluation\n",
    "\n",
    "\n",
    "For local testing and for two of the three submissions, you will use the small training and test datasets that have been provided along with this notebook. \n",
    "\n",
    "When submitting on EdX, your code will be trained and evaluated on a much larger sample of the full dataset. \n",
    "\n",
    "Some suggestions you should keep in mind while implementing the functions:\n",
    "\n",
    "- Avoid doing repeated work i.e. anything that could be done outside the loop, should be outside.\n",
    "- Read the markdown of this notebook carefully."
   ]
  },
  {
   "cell_type": "markdown",
   "metadata": {
    "deletable": false,
    "editable": false,
    "nbgrader": {
     "grade": false,
     "grade_id": "cell-6995099148a8d8ee",
     "locked": true,
     "schema_version": 1,
     "solution": false
    }
   },
   "source": [
    "### Configuration File\n",
    "\n",
    "To make your code more robust, and to aid the process of grading your work, most of the required parameters for the network training and testing will come from a [YAML](http://yaml.org/) config file named \"nn_config.yaml\". \n",
    "\n",
    "This file is present in the same directory as the notebook. We have added default values to parameters, but you may modify them for debugging purposes. \n",
    "\n",
    "Information regarding what these variables mean, and how you should use them is present as comments in the yaml file. Information regarding how to read variables from the YAML config file is mentioned later in this notebook.\n",
    "\n",
    "However, remember that for grading your work we will use our own config files. So your code should always refer to variable values from the config file."
   ]
  },
  {
   "cell_type": "code",
   "execution_count": 1,
   "metadata": {
    "deletable": false,
    "editable": false,
    "nbgrader": {
     "grade": false,
     "grade_id": "cell-0e011b46c2ce211f",
     "locked": true,
     "schema_version": 1,
     "solution": false
    }
   },
   "outputs": [
    {
     "name": "stdout",
     "output_type": "stream",
     "text": [
      "## Training data file path\r\n",
      "training_data_path: ../resource/lib/publicdata/hw8/higgs_train_large.csv\r\n",
      "\r\n",
      "## Testing data file path\r\n",
      "test_data_path: ../resource/lib/publicdata/hw8/higgs_test_large.csv \r\n",
      "\r\n",
      "## Location in which you will save the pickle file containing predictions on test data\r\n",
      "output_predictions_pickle_path: ./test_predictions.pkl\r\n",
      "\r\n",
      "## How to split the input training data into train and validation sets. Value of 0.8 means that if there were initially 100 training examples in the input data, you should split them such that the first 80 are used as training examples and last 20 should be used for validation.\r\n",
      "training_to_validation_ratio: 0.8\r\n",
      "\r\n",
      "## the learning rate you should use for your optimizer \r\n",
      "learning_rate: 0.05\r\n",
      "\r\n",
      "## the total number of epochs or iterations to run over the (80) training examples\r\n",
      "epochs: 200\r\n",
      "\r\n",
      "## the number of mini batches in which you should split your training examples. Continuing with our example, if this value is 10, then each mini batch will have 8 training examples.\r\n",
      "num_mini_batches: 5\r\n",
      "\r\n",
      "## this variable is for your own use to modify when you would like to print any debug statements inside your training loop. For example, a value of 5 may suggest that you should print the training loss, validation loss, training accuracy and validation accuracy every 5 epochs.\r\n",
      "display_step: 1\r\n",
      "\r\n",
      "## the size of the network. If first_layer: 20 and second_layer: 8 then you should set the number of hidden units in first hidden layer and second layer to be 20 and 8 respectively.\r\n",
      "hidden_layer_sizes: \r\n",
      "    first_layer: 20\r\n",
      "    second_layer: 8\r\n",
      "\r\n",
      "## for grading purposes, you may ignore\r\n",
      "dataset_size: large\r\n",
      "grading_script_path: ../resource/lib/publicdata/hw8/grade_test_submission.py"
     ]
    }
   ],
   "source": [
    "# Let's look at the contents of the YAML config file\n",
    "!cat nn_config.yaml "
   ]
  },
  {
   "cell_type": "markdown",
   "metadata": {
    "deletable": false,
    "editable": false,
    "nbgrader": {
     "grade": false,
     "grade_id": "cell-4a4e23526701b920",
     "locked": true,
     "schema_version": 1,
     "solution": false
    }
   },
   "source": [
    "## Gameplan\n",
    "\n",
    "You will write robust code that builds a feedforward neural network, and trains it according to the given set of parameters.\n",
    "\n",
    "1. We will first load the training and test data using the parameters from the config file.\n",
    "2. We will then split the training data into training and validation sets using the value of \"training_to_validation_ratio\" parameter in the config. \n",
    "    For example, if the param is 0.8, it means that the initial 80% of the data should be kept for training, while the rest 20% should be used for validation.\n",
    "3. We will use Cross Entropy Loss as our cost functions and minimize it using AdamOptimizer as our optimizer.\n",
    "4. We will train our model in batches inside our main training loop. You will divide the training data into `num_batches` number of mini batches and for each epoch you will iterate and train over those many number of batches.\n",
    "5. You can use \"display_step\" param to control the frequency of print statements.\n",
    "6. You will maintain a list of training accuracies and losses (one value for each epoch).\n",
    "7. You will maintain a list of validation accuracy and loss (one value for each epoch)."
   ]
  },
  {
   "cell_type": "markdown",
   "metadata": {
    "deletable": false,
    "editable": false,
    "nbgrader": {
     "grade": false,
     "grade_id": "cell-c5dc5f0d1795d09a",
     "locked": true,
     "schema_version": 1,
     "solution": false
    }
   },
   "source": [
    "\n",
    "    The function tf.reduce_sum will allow you to sum across all instances.\n",
    "    "
   ]
  },
  {
   "cell_type": "markdown",
   "metadata": {
    "deletable": false,
    "editable": false,
    "nbgrader": {
     "grade": false,
     "grade_id": "cell-2952f5d422d0d1e7",
     "locked": true,
     "schema_version": 1,
     "solution": false
    }
   },
   "source": [
    "5) You should train your network using your inputted learning rate and for the inputted number of iterations. The iterations are simply a loop that calls Backpropagation a fixed number of times."
   ]
  },
  {
   "cell_type": "markdown",
   "metadata": {},
   "source": [
    "## Initialization "
   ]
  },
  {
   "cell_type": "code",
   "execution_count": 2,
   "metadata": {
    "collapsed": true,
    "deletable": false,
    "editable": false,
    "nbgrader": {
     "grade": false,
     "grade_id": "cell-9c01b1c216ee0572",
     "locked": true,
     "schema_version": 1,
     "solution": false
    }
   },
   "outputs": [],
   "source": [
    "## Tensorflow produces a lot of warnings. We generally want to suppress them. The below code does exactly that. \n",
    "import warnings\n",
    "warnings.filterwarnings('ignore')"
   ]
  },
  {
   "cell_type": "code",
   "execution_count": 3,
   "metadata": {
    "collapsed": true,
    "deletable": false,
    "editable": false,
    "nbgrader": {
     "grade": false,
     "grade_id": "cell-a554a48f73f64b13",
     "locked": true,
     "schema_version": 1,
     "solution": false
    }
   },
   "outputs": [],
   "source": [
    "import tensorflow as tf\n",
    "import numpy as np\n",
    "from matplotlib import pyplot as plt\n",
    "\n",
    "## Pretty Print\n",
    "import pprint as pp"
   ]
  },
  {
   "cell_type": "code",
   "execution_count": 4,
   "metadata": {
    "collapsed": true,
    "deletable": false,
    "editable": false,
    "nbgrader": {
     "grade": false,
     "grade_id": "cell-d1e7a22edc0fe397",
     "locked": true,
     "schema_version": 1,
     "solution": false
    }
   },
   "outputs": [],
   "source": [
    "import yaml\n",
    "def import_config():\n",
    "    with open(\"nn_config.yaml\", 'r') as ymlfile:\n",
    "        try:\n",
    "            cfg = yaml.load(ymlfile)\n",
    "        except yaml.YAMLError as err:\n",
    "            print(err)\n",
    "    return cfg"
   ]
  },
  {
   "cell_type": "code",
   "execution_count": 5,
   "metadata": {
    "deletable": false,
    "editable": false,
    "nbgrader": {
     "grade": false,
     "grade_id": "cell-fbb7c3cab0be00a7",
     "locked": true,
     "schema_version": 1,
     "solution": false
    }
   },
   "outputs": [
    {
     "name": "stdout",
     "output_type": "stream",
     "text": [
      "Your hardware either does not have a GPU or is not configured to use the GPU version of TF.\n",
      "        However, you do not need a GPU for this assignment as you will be completing this assigment on a\n",
      "        CPU enviroment, but evaluating it on a GPU enviroment.\n"
     ]
    }
   ],
   "source": [
    "if 'session' in locals() and session is not None:\n",
    "    print('Close interactive session')\n",
    "    session.close()\n",
    "\n",
    "config = tf.ConfigProto()\n",
    "config.gpu_options.allow_growth = True                    # Dynamically grow the memory used on the GPU\n",
    "session = tf.Session(config=config)\n",
    "    \n",
    "## The below function tests if Tensorflow has access to GPU or not.\n",
    "def test_cpu_gpu():\n",
    "    if tf.test.gpu_device_name():\n",
    "        print('Default GPU Device: {}'.format(tf.test.gpu_device_name()))\n",
    "    else:\n",
    "        print('''Your hardware either does not have a GPU or is not configured to use the GPU version of TF.\n",
    "        However, you do not need a GPU for this assignment as you will be completing this assigment on a\n",
    "        CPU enviroment, but evaluating it on a GPU enviroment.''')\n",
    "        \n",
    "test_cpu_gpu()"
   ]
  },
  {
   "cell_type": "code",
   "execution_count": 6,
   "metadata": {
    "deletable": false,
    "editable": false,
    "nbgrader": {
     "grade": false,
     "grade_id": "cell-4a59bb5add2fa75d",
     "locked": true,
     "schema_version": 1,
     "solution": false
    }
   },
   "outputs": [
    {
     "name": "stdout",
     "output_type": "stream",
     "text": [
      "{'dataset_size': 'large',\n",
      " 'display_step': 1,\n",
      " 'epochs': 200,\n",
      " 'grading_script_path': '../resource/lib/publicdata/hw8/grade_test_submission.py',\n",
      " 'hidden_layer_sizes': {'first_layer': 20, 'second_layer': 8},\n",
      " 'learning_rate': 0.05,\n",
      " 'num_mini_batches': 5,\n",
      " 'output_predictions_pickle_path': './test_predictions.pkl',\n",
      " 'test_data_path': '../resource/lib/publicdata/hw8/higgs_test_large.csv',\n",
      " 'training_data_path': '../resource/lib/publicdata/hw8/higgs_train_large.csv',\n",
      " 'training_to_validation_ratio': 0.8}\n"
     ]
    }
   ],
   "source": [
    "cfg = import_config()\n",
    "\n",
    "## Is it loaded correctly?\n",
    "pp.pprint(cfg)"
   ]
  },
  {
   "cell_type": "code",
   "execution_count": 8,
   "metadata": {
    "collapsed": true
   },
   "outputs": [],
   "source": [
    "# Removes the old test_predictions.pkl file\n",
    "# so that it will not affect your final tests at the end of the notebook\n",
    "!rm test_predictions.pkl 2> /dev/null"
   ]
  },
  {
   "cell_type": "markdown",
   "metadata": {},
   "source": [
    "## Reading in Data "
   ]
  },
  {
   "cell_type": "code",
   "execution_count": 9,
   "metadata": {
    "collapsed": true,
    "deletable": false,
    "editable": false,
    "nbgrader": {
     "grade": false,
     "grade_id": "cell-855db077a3fa0f0b",
     "locked": true,
     "schema_version": 1,
     "solution": false
    }
   },
   "outputs": [],
   "source": [
    "train_file_name = cfg['training_data_path']\n",
    "test_file_name = cfg['test_data_path']"
   ]
  },
  {
   "cell_type": "code",
   "execution_count": 10,
   "metadata": {
    "collapsed": true
   },
   "outputs": [],
   "source": [
    "# =========================================================================================== #\n",
    "# Uncomment this to test on smaller dataset. This is faster and can be used to debug quickly. #\n",
    "# PLEASE COMMENT THIS BEFORE SUBMITTING. YOUR NOTEBOOK IS EVALUATED ON LARGE DATASET.         #\n",
    "# =========================================================================================== #\n",
    "\n",
    "# train_file_name = '../resource/lib/publicdata/hw8/higgs_train_small.csv'\n",
    "# test_file_name = '../resource/lib/publicdata/hw8/higgs_test_small.csv'"
   ]
  },
  {
   "cell_type": "code",
   "execution_count": 11,
   "metadata": {
    "deletable": false,
    "editable": false,
    "nbgrader": {
     "grade": false,
     "grade_id": "cell-a6fc5a4686fa8347",
     "locked": true,
     "schema_version": 1,
     "solution": false
    }
   },
   "outputs": [],
   "source": [
    "## Loading the Data\n",
    "training_data = np.loadtxt(train_file_name, delimiter = ',')\n",
    "test_data = np.loadtxt(test_file_name, delimiter = ',')"
   ]
  },
  {
   "cell_type": "markdown",
   "metadata": {
    "deletable": false,
    "editable": false,
    "nbgrader": {
     "grade": false,
     "grade_id": "cell-f6ae15f9a3523674",
     "locked": true,
     "schema_version": 1,
     "solution": false
    }
   },
   "source": [
    "Now we have loaded the training and test data. However, we cannot use it directly. We first need to standardize it."
   ]
  },
  {
   "cell_type": "markdown",
   "metadata": {
    "deletable": false,
    "editable": false,
    "nbgrader": {
     "grade": false,
     "grade_id": "cell-bb592faa9bc02c71",
     "locked": true,
     "schema_version": 1,
     "solution": false
    }
   },
   "source": [
    "### Exercise: Implement the Standardize Function \n",
    "\n",
    "Neural networks work best when all features roughly are on the same scale and are centered around the mean.\n",
    "\n",
    "This is done by standardizing the feature vectors. Feature standardization makes the values of each feature in the data have zero-mean (when subtracting the mean in the numerator) and unit-variance.\n",
    "\n",
    "The function <font color=\"blue\">standardize</font> takes the input data and determines the distribution mean and standard deviation for each feature. Next the mean is subtracted from each feature. Then the mean-subtracted values of each feature are divided by its standard deviation.\n",
    "\n",
    "**<font color=\"magenta\" size=2>Example Input</font>**\n",
    "There are 3 training examples with 4 features each \n",
    "``` python\n",
    "np.array([[-0.22 -0.19 -0.17 -0.13][-0.1 -0.05 0.02 0.10][0.03 0.11 0.12 0.15]])\n",
    "```\n",
    "\n",
    "**<font color=\"blue\" size=2>Example Output</font>**\n",
    "There are 3 training examples (which have been standardized) along each of the 4 features\n",
    "``` python\n",
    "array([[-1.20809282, -1.19664225, -1.33025759, -1.39425471],\n",
    "       [-0.03265116, -0.05439283,  0.2494233 ,  0.4920899 ],\n",
    "       [ 1.24074398,  1.25103507,  1.08083429,  0.90216481]])\n",
    "```\n",
    "\n",
    "Refer the \"Standardization\" section of this [Wikipedia Feature Scaling Article](https://en.wikipedia.org/wiki/Feature_scaling)."
   ]
  },
  {
   "cell_type": "code",
   "execution_count": 36,
   "metadata": {
    "collapsed": true,
    "nbgrader": {
     "grade": false,
     "grade_id": "cell-305b411920b596a3",
     "locked": false,
     "schema_version": 1,
     "solution": true
    }
   },
   "outputs": [],
   "source": [
    "def standardize(data):\n",
    "    ###\n",
    "    ### YOUR CODE HERE\n",
    "    ###\n",
    "    result = (data - np.mean(data, axis = 0))/np.std(data, axis = 0)\n",
    "    return result"
   ]
  },
  {
   "cell_type": "code",
   "execution_count": 37,
   "metadata": {
    "deletable": false,
    "editable": false,
    "nbgrader": {
     "grade": true,
     "grade_id": "standardize_vt",
     "locked": true,
     "points": "5",
     "schema_version": 1,
     "solution": false
    },
    "scrolled": true
   },
   "outputs": [],
   "source": [
    "dummy = np.array([[-0.22, -0.19, -0.17, -0.13],[-0.1, -0.05, 0.02, 0.10],[0.03, 0.11, 0.12, 0.15]])\n",
    "assert standardize(dummy).__class__ == np.ndarray, \"should return numpy array\"\n",
    "assert standardize(dummy).shape == dummy.shape, \"should have the same shape as the input array\"\n",
    "\n",
    "dummy_ans = np.round(np.array([[-1.20809282, -1.19664225, -1.33025759, -1.39425471],\n",
    "       [-0.03265116, -0.05439283,  0.2494233 ,  0.4920899 ],\n",
    "       [ 1.24074398,  1.25103507,  1.08083429,  0.90216481]]),3)\n",
    "assert (np.round(standardize(dummy)[0],3)==dummy_ans[0]).all(), \"check for correct return value failed\"\n",
    "assert (np.round(standardize(dummy)[2],3)==dummy_ans[2]).all(), \"check for correct return value failed\"\n",
    "del dummy, dummy_ans"
   ]
  },
  {
   "cell_type": "code",
   "execution_count": 13,
   "metadata": {
    "collapsed": true,
    "deletable": false,
    "editable": false,
    "nbgrader": {
     "grade": true,
     "grade_id": "standardize_ht",
     "locked": true,
     "points": "10",
     "schema_version": 1,
     "solution": false
    },
    "scrolled": true
   },
   "outputs": [],
   "source": [
    "# Hidden Tests Here\n",
    "\n",
    "###\n",
    "### AUTOGRADER TEST - DO NOT REMOVE\n",
    "###\n"
   ]
  },
  {
   "cell_type": "markdown",
   "metadata": {
    "deletable": false,
    "editable": false,
    "nbgrader": {
     "grade": false,
     "grade_id": "cell-6d1d2ce4cf36f9c1",
     "locked": true,
     "schema_version": 1,
     "solution": false
    }
   },
   "source": [
    "### Exercise: Implement the parse_training_data function\n",
    "\n",
    "The function <font color=\"blue\">parse_training_data</font> takes the input data and returns labels and features. \n",
    "\n",
    "Remember that the first column of the training data is the labels, and the remaining columns are the features\n",
    "\n",
    "The labels should be reshaped to a 2-D numpy matrix of shape (dataset_size, 1)\n",
    "The features should be standardized and have be a 2-D numpy matrix of shape (dataset_size, 28)\n",
    "\n",
    "**<font color=\"magenta\" size=2>Example Input</font>**\n",
    "There are 3 training examples with the label and 3 features each \n",
    "``` python\n",
    "np.array([[1 -0.19 -0.17 -0.13][0 -0.05 0.02 0.10][0 0.11 0.12 0.15]])\n",
    "```\n",
    "\n",
    "**<font color=\"blue\" size=2>Example Output</font>**\n",
    "Returns a tuple:\n",
    "    1st element is the labels\n",
    "    2nd element is the standardized features\n",
    "``` python\n",
    "(array([[1.],\n",
    "        [0.],\n",
    "        [1.]]), array([[-1.4688735 , -1.3105518 , -0.99390842],\n",
    "        [-0.36062164,  0.19350429,  0.82679107],\n",
    "        [ 0.90595192,  0.98511277,  1.22259531]]))\n",
    "```\n",
    "\n",
    "\n",
    "Remember to use the standardize function appropriately inside this function and use the visible assert statements to finetune the shape of your returned data."
   ]
  },
  {
   "cell_type": "code",
   "execution_count": 58,
   "metadata": {
    "collapsed": true,
    "nbgrader": {
     "grade": false,
     "grade_id": "cell-b74473c65b9d3782",
     "locked": false,
     "schema_version": 1,
     "solution": true
    }
   },
   "outputs": [],
   "source": [
    "def parse_training_data(numpy_matrix):  \n",
    "    ###\n",
    "    ### YOUR CODE HERE\n",
    "    ###\n",
    "    labels = numpy_matrix[:, 0][:, None]\n",
    "    features = standardize(numpy_matrix[:, 1:])\n",
    "    return labels, features"
   ]
  },
  {
   "cell_type": "code",
   "execution_count": 59,
   "metadata": {
    "deletable": false,
    "editable": false,
    "nbgrader": {
     "grade": false,
     "grade_id": "cell-f0e069072154f863",
     "locked": true,
     "schema_version": 1,
     "solution": false
    }
   },
   "outputs": [],
   "source": [
    "# Parse Training Data. You will later split the `labels` and `features` into training and validation sets.\n",
    "labels, features = parse_training_data(training_data)"
   ]
  },
  {
   "cell_type": "code",
   "execution_count": 60,
   "metadata": {
    "deletable": false,
    "editable": false,
    "nbgrader": {
     "grade": true,
     "grade_id": "shape_v",
     "locked": true,
     "points": "5",
     "schema_version": 1,
     "solution": false
    }
   },
   "outputs": [],
   "source": [
    "assert labels.shape[1] == 1\n",
    "assert features.shape[1] == 28"
   ]
  },
  {
   "cell_type": "code",
   "execution_count": 17,
   "metadata": {
    "collapsed": true,
    "deletable": false,
    "editable": false,
    "nbgrader": {
     "grade": true,
     "grade_id": "values_h",
     "locked": true,
     "points": "10",
     "schema_version": 1,
     "solution": false
    }
   },
   "outputs": [],
   "source": [
    "###\n",
    "### AUTOGRADER TEST - DO NOT REMOVE\n",
    "###\n"
   ]
  },
  {
   "cell_type": "markdown",
   "metadata": {
    "deletable": false,
    "editable": false,
    "nbgrader": {
     "grade": false,
     "grade_id": "cell-714a63065a14a65f",
     "locked": true,
     "schema_version": 1,
     "solution": false
    }
   },
   "source": [
    "### Exercise: Implement the parse_test_data function\n",
    "\n",
    "The function <font color=\"blue\">parse_test_data</font> takes the input data and returns labels and features. \n",
    "\n",
    "We do not have access to labels while predicting the classes that our test examples belong to. The input data files for the test data would not have the labels column. \n",
    "\n",
    "So we need a different function to parse the test data. This should only return standardized features.\n",
    "\n",
    "The features should be standardized and have be a 2-D numpy matrix of shape (dataset_size, 28)\n",
    "\n",
    "**<font color=\"magenta\" size=2>Example Input</font>**\n",
    "There are 3 training examples with the label and 3 features each \n",
    "``` python\n",
    "np.array([[-0.19 -0.17 -0.13][-0.05 0.02 0.10][0.11 0.12 0.15]])\n",
    "```\n",
    "\n",
    "**<font color=\"blue\" size=2>Example Output</font>**\n",
    "Returns a tuple:\n",
    "    1st element is the labels\n",
    "    2nd element is the standardized features\n",
    "``` python\n",
    "array([[-1.4688735 , -1.3105518 , -0.99390842],\n",
    "        [-0.36062164,  0.19350429,  0.82679107],\n",
    "        [ 0.90595192,  0.98511277,  1.22259531]])\n",
    "```\n",
    "\n",
    "\n",
    "Remember to use the standardize function appropriately inside this function."
   ]
  },
  {
   "cell_type": "code",
   "execution_count": 65,
   "metadata": {
    "collapsed": true,
    "nbgrader": {
     "grade": false,
     "grade_id": "cell-cd58458c52559f0a",
     "locked": false,
     "schema_version": 1,
     "solution": true
    }
   },
   "outputs": [],
   "source": [
    "def parse_test_data(numpy_matrix):\n",
    "    \n",
    "    ###\n",
    "    ### YOUR CODE HERE\n",
    "    ###\n",
    "    test_features = standardize(numpy_matrix)\n",
    "    return test_features"
   ]
  },
  {
   "cell_type": "code",
   "execution_count": 66,
   "metadata": {
    "deletable": false,
    "editable": false,
    "nbgrader": {
     "grade": false,
     "grade_id": "cell-febfb665f2f27e1e",
     "locked": true,
     "schema_version": 1,
     "solution": false
    }
   },
   "outputs": [],
   "source": [
    "test_features = parse_test_data(test_data)"
   ]
  },
  {
   "cell_type": "markdown",
   "metadata": {
    "deletable": false,
    "editable": false,
    "nbgrader": {
     "grade": false,
     "grade_id": "cell-0de20ca899b3afe6",
     "locked": true,
     "schema_version": 1,
     "solution": false
    }
   },
   "source": [
    "## Building the Neural Network "
   ]
  },
  {
   "cell_type": "markdown",
   "metadata": {
    "deletable": false,
    "editable": false,
    "nbgrader": {
     "grade": false,
     "grade_id": "cell-6b3f768be0607ffd",
     "locked": true,
     "schema_version": 1,
     "solution": false
    }
   },
   "source": [
    "### Initializing important parameters\n",
    "Use the below params appropriately inside the train_nn() function. We have initialized these variables in order to assist you in your implementation."
   ]
  },
  {
   "cell_type": "code",
   "execution_count": 67,
   "metadata": {
    "deletable": false,
    "editable": false,
    "nbgrader": {
     "grade": false,
     "grade_id": "cell-9496cea12852d1fa",
     "locked": true,
     "schema_version": 1,
     "solution": false
    }
   },
   "outputs": [
    {
     "name": "stdout",
     "output_type": "stream",
     "text": [
      "Total Training examples: 8000, Number of Batches: 5, Batch Size: 1600\n"
     ]
    }
   ],
   "source": [
    "learning_rate = cfg['learning_rate']\n",
    "training_epochs = cfg['epochs']\n",
    "train_valid_split = cfg['training_to_validation_ratio']\n",
    "num_batches = cfg['num_mini_batches']\n",
    "display_step = cfg['display_step']\n",
    "\n",
    "num_examples= training_data.shape[0]\n",
    "\n",
    "# The first `num_train_examples` should be used for training, the rest for validation.\n",
    "num_train_examples = int(num_examples * train_valid_split)\n",
    "\n",
    "batch_size = num_train_examples/num_batches\n",
    "\n",
    "\n",
    "# Network Parameters\n",
    "n_hidden_1 = cfg['hidden_layer_sizes']['first_layer'] # 1st layer number of features\n",
    "n_hidden_2 = cfg['hidden_layer_sizes']['second_layer'] # 2nd layer number of features\n",
    "n_input = 28 \n",
    "n_classes = 1 \n",
    "\n",
    "\n",
    "print(\"Total Training examples: %d, Number of Batches: %d, Batch Size: %d\" %(num_train_examples,num_batches,batch_size))"
   ]
  },
  {
   "cell_type": "markdown",
   "metadata": {
    "deletable": false,
    "editable": false,
    "nbgrader": {
     "grade": false,
     "grade_id": "cell-dc994f1830e0a244",
     "locked": true,
     "schema_version": 1,
     "solution": false
    }
   },
   "source": [
    "### Initializing placeholders for feeding into the TF graph\n",
    "\n",
    "Define the TF placeholders which will receive data for each mini batch. Similarly define weights and biases as TF variables "
   ]
  },
  {
   "cell_type": "code",
   "execution_count": 68,
   "metadata": {
    "collapsed": true,
    "deletable": false,
    "editable": false,
    "nbgrader": {
     "grade": false,
     "grade_id": "cell-47aa2936b36e30b8",
     "locked": true,
     "schema_version": 1,
     "solution": false
    }
   },
   "outputs": [],
   "source": [
    "# TF Graph input\n",
    "## Use the below placeholders appropriately inside the train_nn() function\n",
    "\n",
    "x = tf.placeholder(\"float\", [None, n_input])\n",
    "y = tf.placeholder(\"float\", [None, 1])\n",
    "\n",
    "\n",
    "# Store layers weight & bias\n",
    "weights = {\n",
    "    'h1': tf.Variable(tf.random_normal([n_input, n_hidden_1])),\n",
    "    'h2': tf.Variable(tf.random_normal([n_hidden_1, n_hidden_2])),\n",
    "    'out': tf.Variable(tf.random_normal([n_hidden_2, n_classes]))\n",
    "}\n",
    "\n",
    "biases = {\n",
    "    'b1': tf.Variable(tf.random_normal([n_hidden_1])),\n",
    "    'b2': tf.Variable(tf.random_normal([n_hidden_2])),\n",
    "    'out': tf.Variable(tf.random_normal([n_classes]))\n",
    "}"
   ]
  },
  {
   "cell_type": "markdown",
   "metadata": {
    "deletable": false,
    "editable": false,
    "nbgrader": {
     "grade": false,
     "grade_id": "cell-714a63065a14a6sd5f",
     "locked": true,
     "schema_version": 1,
     "solution": false
    }
   },
   "source": [
    "### Exercise: Implement the `calc_num_total_learnable_params` function.\n",
    "\n",
    "This function  calculates the number of learnable parameters of the network model. This number directly relates to the complexity of your model, as well as the training time. \n",
    "\n",
    "The function <font color=\"blue\">calc_num_total_learnable_params</font> takes the weights dictionary and bias dictionary and returns an integer which is equal to the number of total parameters in the network. \n",
    "\n",
    "You can make use of the `get_dims_as_tuple` as a helper function to access the shape of the weight and bias matrices easily."
   ]
  },
  {
   "cell_type": "code",
   "execution_count": 69,
   "metadata": {
    "deletable": false,
    "editable": false,
    "nbgrader": {
     "grade": false,
     "grade_id": "cell-bb3e6250332e0033",
     "locked": true,
     "schema_version": 1,
     "solution": false
    }
   },
   "outputs": [
    {
     "data": {
      "text/plain": [
       "(28, 20)"
      ]
     },
     "execution_count": 69,
     "metadata": {},
     "output_type": "execute_result"
    }
   ],
   "source": [
    "# Helper function which you may use in implementing `calc_num_total_learnable_params(weights,biases)` function below.\n",
    "def get_dims_as_tuple(x):\n",
    "    shape = x.get_shape()\n",
    "    dims = []\n",
    "    for dim in shape:\n",
    "        dims.append(dim.value)\n",
    "    return tuple(dims)\n",
    "\n",
    "# example usage:\n",
    "get_dims_as_tuple(weights['h1'])"
   ]
  },
  {
   "cell_type": "code",
   "execution_count": 82,
   "metadata": {
    "collapsed": true,
    "nbgrader": {
     "grade": false,
     "grade_id": "cell-94e7366afdd6358a",
     "locked": false,
     "schema_version": 1,
     "solution": true
    }
   },
   "outputs": [],
   "source": [
    "def calc_num_total_learnable_params(weights,biases):\n",
    "    \n",
    "    ###\n",
    "    ### YOUR CODE HERE\n",
    "    ###\n",
    "    count = 0\n",
    "    for param in weights.values():\n",
    "        shape = get_dims_as_tuple(param)\n",
    "        count += shape[0] * shape[1]\n",
    "    for param in biases.values():\n",
    "        shape = get_dims_as_tuple(param)\n",
    "        count += shape[0]\n",
    "    return count"
   ]
  },
  {
   "cell_type": "code",
   "execution_count": 83,
   "metadata": {},
   "outputs": [
    {
     "data": {
      "text/plain": [
       "757"
      ]
     },
     "execution_count": 83,
     "metadata": {},
     "output_type": "execute_result"
    }
   ],
   "source": [
    "calc_num_total_learnable_params(weights,biases)"
   ]
  },
  {
   "cell_type": "code",
   "execution_count": 24,
   "metadata": {
    "collapsed": true,
    "deletable": false,
    "editable": false,
    "nbgrader": {
     "grade": true,
     "grade_id": "learnable_ht",
     "locked": true,
     "points": "10",
     "schema_version": 1,
     "solution": false
    }
   },
   "outputs": [],
   "source": [
    "## Hidden Tests Here\n",
    "###\n",
    "### AUTOGRADER TEST - DO NOT REMOVE\n",
    "###\n"
   ]
  },
  {
   "cell_type": "markdown",
   "metadata": {
    "deletable": false,
    "editable": false,
    "nbgrader": {
     "grade": false,
     "grade_id": "cell-40285d4b5a7d0481",
     "locked": true,
     "schema_version": 1,
     "solution": false
    }
   },
   "source": [
    "### Exercise: Create FeedForward Network Model\n",
    "\n",
    "This function needs to be filled up with code to construct the remaining two layers of the neural network. You have to add one more hidden layers and also the output layer.\n",
    "\n",
    "You should use the sigmoid activation function. Tensorflow's `tf.nn.sigmoid()` function should be helpful. \n",
    "\n",
    "We have partially implemented this function. Complete the rest of it. Remember to not apply the sigmoid activation at the last layer as we will be using `tf.nn.sigmoid_cross_entropy_with_logits()` later which does that.\n"
   ]
  },
  {
   "cell_type": "code",
   "execution_count": 84,
   "metadata": {
    "collapsed": true,
    "nbgrader": {
     "grade": false,
     "grade_id": "cell-0fd6390a18e16110",
     "locked": false,
     "schema_version": 1,
     "solution": true
    }
   },
   "outputs": [],
   "source": [
    "def create_feedforward_nn_model(x, weights, biases):\n",
    "    # Hidden layer with SIGMOID activation\n",
    "    layer_1 = tf.add(tf.matmul(x, weights['h1']), biases['b1'])\n",
    "    layer_1 = tf.nn.sigmoid(layer_1)\n",
    "    \n",
    "    layer_2 = tf.add(tf.matmul(layer_1, weights['h2']), biases['b2'])\n",
    "    layer_2 = tf.nn.sigmoid(layer_2)    \n",
    "    \n",
    "    out_layer = tf.add(tf.matmul(layer_2, weights['out']), biases['out'])\n",
    "    ###\n",
    "    ### YOUR CODE HERE\n",
    "    ###\n",
    "    return out_layer\n",
    "\n"
   ]
  },
  {
   "cell_type": "markdown",
   "metadata": {
    "deletable": false,
    "editable": false,
    "nbgrader": {
     "grade": false,
     "grade_id": "cell-6fcb5f53e1dbbae9",
     "locked": true,
     "schema_version": 1,
     "solution": false
    }
   },
   "source": [
    "### Exercise: Stitch the Neural Network Model\n",
    "\n",
    "Using the appropriate Tensorflow libraries, implement each of the following operations:\n",
    "- loss as the CrossEntropyLoss\n",
    "- train_op as the AdamOptimizer that minimizes the loss\n",
    "\n",
    "As inputs to these operators, you can use:\n",
    "- `pred_raw` which is the output of your neural network's last layer\n",
    "- `pred` is the predicted label, which is the output of rounding `pred_raw`. \n",
    "\n",
    "You might want to look at the Tensorflow Section notebooks as well as the TensorFlow API.\n",
    "\n",
    "Two of the returned values have been implemented as a hint for you.\n",
    "\n",
    "Functions that could be useful here: \n",
    "\n",
    "```python\n",
    "tf.nn.sigmoid_cross_entropy_with_logits()\n",
    "tf.reduce_mean()\n",
    "tf.round()\n",
    "tf.sigmoid()\n",
    "tf.train.AdamOptimizer().minimize()\n",
    "```"
   ]
  },
  {
   "cell_type": "code",
   "execution_count": 98,
   "metadata": {
    "nbgrader": {
     "grade": false,
     "grade_id": "cell-2a697316f54fa391",
     "locked": false,
     "schema_version": 1,
     "solution": true
    }
   },
   "outputs": [],
   "source": [
    "# Construct model\n",
    "def stitch_network(x, y, weights, biases, learning_rate):\n",
    "    \n",
    "    pred_raw = create_feedforward_nn_model(x, weights, biases)\n",
    "    pred = tf.round(tf.nn.sigmoid(pred_raw))\n",
    "    \n",
    "    ###\n",
    "    ### YOUR CODE HERE\n",
    "    ###\n",
    "    cost = tf.reduce_mean(tf.nn.sigmoid_cross_entropy_with_logits(labels=y, logits=pred_raw))\n",
    "    train_op = tf.train.AdamOptimizer(learning_rate=learning_rate).minimize(cost)\n",
    "    \n",
    "    return pred_raw, pred, cost, train_op\n",
    "\n",
    "\n",
    "pred_raw, pred, cost, train_op = stitch_network(x, y, weights, biases, learning_rate)"
   ]
  },
  {
   "cell_type": "code",
   "execution_count": 99,
   "metadata": {
    "deletable": false,
    "editable": false,
    "nbgrader": {
     "grade": true,
     "grade_id": "shape2_v",
     "locked": true,
     "points": "5",
     "schema_version": 1,
     "solution": false
    }
   },
   "outputs": [],
   "source": [
    "assert cost.__class__ == tf.Tensor\n",
    "assert cost.get_shape() == (), \"Make sure you have used reduce_mean\""
   ]
  },
  {
   "cell_type": "code",
   "execution_count": 100,
   "metadata": {
    "collapsed": true,
    "deletable": false,
    "editable": false,
    "nbgrader": {
     "grade": false,
     "grade_id": "cell-e9b4c53caccf6e1d",
     "locked": true,
     "schema_version": 1,
     "solution": false
    }
   },
   "outputs": [],
   "source": [
    "# Initializing the variables - IMPORTANT\n",
    "init = tf.global_variables_initializer()"
   ]
  },
  {
   "cell_type": "markdown",
   "metadata": {
    "deletable": false,
    "editable": false,
    "nbgrader": {
     "grade": false,
     "grade_id": "cell-b683e70b1b3eafa0",
     "locked": true,
     "schema_version": 1,
     "solution": false
    }
   },
   "source": [
    "## Training and Testing the Neural Network"
   ]
  },
  {
   "cell_type": "markdown",
   "metadata": {
    "deletable": false,
    "editable": false,
    "nbgrader": {
     "grade": false,
     "grade_id": "cell-b683e70b1b3asdaeafa0",
     "locked": true,
     "schema_version": 1,
     "solution": false
    }
   },
   "source": [
    "### Exercise: Writing the Train function\n",
    "\n",
    "This is where you will train your network.\n",
    "\n",
    "Your goal is to complete the following function named `train_nn()`. \n",
    "\n",
    "To help you structure your implementation, we have provided some starter code. \n",
    "\n",
    "We have also detailed each of the steps you need to pay attention to inside the main training loop.\n",
    "\n",
    "Remember you have access to all the parameters we initialized early on in the notebook, as well as to the parameters defined in the config file. \n",
    "\n",
    "`train_nn()` should return 5 python lists\n",
    "1. training_costs\n",
    "2. validation_costs\n",
    "3. training_accs\n",
    "4. validation_accs\n",
    "5. test_predictions "
   ]
  },
  {
   "cell_type": "code",
   "execution_count": 115,
   "metadata": {
    "collapsed": true,
    "nbgrader": {
     "grade": false,
     "grade_id": "cell-cd22bec67d6afd31",
     "locked": false,
     "schema_version": 1,
     "solution": true
    }
   },
   "outputs": [],
   "source": [
    "def train_nn():\n",
    "    with tf.Session() as sess:\n",
    "\n",
    "        sess.run(init)\n",
    "        \n",
    "        ## this is needed to print debug statements during training.\n",
    "        coord = tf.train.Coordinator()\n",
    "        threads = tf.train.start_queue_runners(coord=coord)\n",
    "\n",
    "        x_train, x_valid = features[:num_train_examples], features[num_train_examples:]\n",
    "        y_train, y_valid = labels[:num_train_examples], labels[num_train_examples:]\n",
    "\n",
    "        training_costs = []\n",
    "        training_accs = []\n",
    "\n",
    "        validation_costs = []\n",
    "        validation_accs = []\n",
    "\n",
    "        for epoch in range(training_epochs):\n",
    "        \n",
    "            '''\n",
    "            We recommend you first think about how you will implement this on your own before proceeding to read any further.\n",
    "        \n",
    "            HINT: You should implement the following procedure here:\n",
    "        \n",
    "            An epoch is one pass through your training data\n",
    "            1. Keep a counter of your epoch's total cost. \n",
    "               You will need this to average over the batches.\n",
    "            2. Keep a counter of the number of correct predictions in your epoch. \n",
    "               You will need this to sum over the batches to calculate per epoch accuracy.\n",
    "            \n",
    "            For each batch  (you should have `num_batches` number of batches totally)\n",
    "                --Batchwise training--\n",
    "                3. subset your features and labels from x_train and y_train\n",
    "                ex. for batch 1, you'd select all examples in the interval [0,batch_size)\n",
    "                    for batch 2, it would be between [batch_size, 2*batch_size)\n",
    "                    Make sure to account for a possible fractional batch as your last batch\n",
    "                4. Massage your x_batch and y_batch into numpy arrays of shape (size_of_batch, 28) \n",
    "                    and (size_of_batch, 1) respectively\n",
    "                    \n",
    "                5. Feed the x_batch and y_batch into your tensorflow graph and execute the optimizer, cost and pred \n",
    "                    in order to train your model using the current batch and also get back the batch_cost and batch_predictions\n",
    "                6. Count the number of correct predictions for this batch and add it to the counter for the \n",
    "                    correct predictions in the epoch\n",
    "                    \n",
    "            7. Calculate your average_epoch_cost as the total_epoch_cost divided by the number of training examples\n",
    "            8. Append the average_epoch_cost to `training_costs`\n",
    "            9. Calculate your epoch_accuracy as the total number of correct predictions in your epoch\n",
    "                    divided by the number of training examples\n",
    "            10. Append the epoch_accuracy to `training_accs`\n",
    "            \n",
    "            --Validation--\n",
    "            \n",
    "            11. Massage your validation labels (y_valid) into a numpy arrays of shape (validation_set_size, 1)\n",
    "            12. With y_valid and x_valid as input to your graph, calculate the validation loss and validation predictions\n",
    "                    We are calculating validation accuracy at the end of each epoch\n",
    "            13. Calculate the number of correct validation predictions by comparing against your validation labels\n",
    "            14. Append validation costs and validation accuracy to their respective lists\n",
    "            15. Avoid printing a lot of debug information when you submit the assignment. \n",
    "                This reduces the speed of execution.\n",
    "                If you want to print some information every so often, you can use the following line \n",
    "                at the end of your epoch loop:\n",
    "                if epoch%display_step==0:\n",
    "                    print(\"Epoch %d | Tr cost: %f | Tr accuracy %f | Va cost: %f | Va accuracy: \n",
    "                        %f\"%(epoch + 1,avg_epoch_cost, this_epoch_accuracy, batch_valid_cost, valid_accuracy))\n",
    "            '''\n",
    "        ###\n",
    "        ### YOUR CODE HERE\n",
    "        ###\n",
    "            epoch_cost, epoch_acc = 0, 0\n",
    "            for i in range(num_batches):\n",
    "                begin_idx, end_idx = int(i*batch_size), int((i+1)*batch_size)\n",
    "                x_batch = x_train[begin_idx:end_idx,:]\n",
    "                y_batch = y_train[begin_idx:end_idx,:]\n",
    "                feed_dict = {\n",
    "                    x : x_batch,\n",
    "                    y : y_batch\n",
    "                }\n",
    "                pred_batch, loss_batch, _ = sess.run([pred, cost, train_op],\n",
    "                         feed_dict = feed_dict)\n",
    "                epoch_cost += loss_batch\n",
    "                epoch_acc += np.sum(pred_batch == y_batch)\n",
    "                \n",
    "                \n",
    "            avg_epoch_cost = epoch_cost/num_batches\n",
    "            this_epoch_accuracy = epoch_acc/num_train_examples\n",
    "            training_costs.append(avg_epoch_cost)\n",
    "            training_accs.append(this_epoch_accuracy)\n",
    "            \n",
    "            y_valid_pred,y_valid_cost = sess.run([pred,cost],\n",
    "                                   feed_dict={\n",
    "                                       x:x_valid,\n",
    "                                       y:y_valid\n",
    "                                   })\n",
    "            batch_valid_cost = y_valid_cost\n",
    "            valid_accuracy = np.sum(y_valid == y_valid_pred)/x_valid.shape[0]\n",
    "            validation_costs.append(batch_valid_cost)\n",
    "            validation_accs.append(valid_accuracy)\n",
    "\n",
    "            if epoch%display_step==0:\n",
    "                print(\"Epoch %d | Tr cost: %f | Tr accuracy %f | Va cost: %f | Va accuracy: %f\"%(epoch + 1,\n",
    "                         avg_epoch_cost, this_epoch_accuracy, batch_valid_cost, valid_accuracy))\n",
    "\n",
    "        validation_costs = list(np.array(validation_costs,dtype=np.float64))\n",
    "\n",
    "        ## Assuming the above part is completed, you should now use your trained model to make predictions on the test set.\n",
    "        test_predictions = []\n",
    "        \n",
    "        '''\n",
    "        HINT:\n",
    "        Using the `test_features` as input to your trained graph,\n",
    "            run the graph once more to calculate the predictions on the test set\n",
    "        Cast the returned numpy array into the python list called `test_predictions`\n",
    "            where each element has type np.float64\n",
    "        '''\n",
    "        \n",
    "        ###\n",
    "        ### YOUR CODE HERE\n",
    "        ###\n",
    "        test_predictions = sess.run(pred, feed_dict={\n",
    "            x : test_features\n",
    "        })\n",
    "        test_predictions = list(np.array(test_predictions,dtype=np.float64))\n",
    "        test_predictions = np.squeeze(test_predictions)\n",
    "    ## close TF session if open\n",
    "    if 'session' in locals() and sess is not None:\n",
    "        print('Close interactive session')\n",
    "        sess.close()\n",
    "        \n",
    "    return training_costs, validation_costs, training_accs, validation_accs, test_predictions"
   ]
  },
  {
   "cell_type": "code",
   "execution_count": 116,
   "metadata": {
    "deletable": false,
    "editable": false,
    "nbgrader": {
     "grade": false,
     "grade_id": "cell-099ff13f7570ad44",
     "locked": true,
     "schema_version": 1,
     "solution": false
    }
   },
   "outputs": [
    {
     "name": "stdout",
     "output_type": "stream",
     "text": [
      "WARNING:tensorflow:`tf.train.start_queue_runners()` was called when no queue runners were defined. You can safely remove the call to this deprecated function.\n",
      "Epoch 1 | Tr cost: 1.109124 | Tr accuracy 0.521125 | Va cost: 0.742232 | Va accuracy: 0.485500\n",
      "Epoch 2 | Tr cost: 0.788486 | Tr accuracy 0.474375 | Va cost: 0.792293 | Va accuracy: 0.474500\n",
      "Epoch 3 | Tr cost: 0.758169 | Tr accuracy 0.470625 | Va cost: 0.705229 | Va accuracy: 0.473500\n",
      "Epoch 4 | Tr cost: 0.696650 | Tr accuracy 0.512375 | Va cost: 0.703777 | Va accuracy: 0.524000\n",
      "Epoch 5 | Tr cost: 0.707405 | Tr accuracy 0.530875 | Va cost: 0.714209 | Va accuracy: 0.524000\n",
      "Epoch 6 | Tr cost: 0.703091 | Tr accuracy 0.530875 | Va cost: 0.695682 | Va accuracy: 0.524000\n",
      "Epoch 7 | Tr cost: 0.691011 | Tr accuracy 0.532875 | Va cost: 0.692250 | Va accuracy: 0.520000\n",
      "Epoch 8 | Tr cost: 0.693093 | Tr accuracy 0.501500 | Va cost: 0.694043 | Va accuracy: 0.494500\n",
      "Epoch 9 | Tr cost: 0.692294 | Tr accuracy 0.507750 | Va cost: 0.691449 | Va accuracy: 0.524000\n",
      "Epoch 10 | Tr cost: 0.689775 | Tr accuracy 0.530875 | Va cost: 0.692490 | Va accuracy: 0.524000\n",
      "Epoch 11 | Tr cost: 0.690192 | Tr accuracy 0.530875 | Va cost: 0.692671 | Va accuracy: 0.524000\n",
      "Epoch 12 | Tr cost: 0.689371 | Tr accuracy 0.530875 | Va cost: 0.691165 | Va accuracy: 0.524000\n",
      "Epoch 13 | Tr cost: 0.688683 | Tr accuracy 0.530875 | Va cost: 0.690835 | Va accuracy: 0.526000\n",
      "Epoch 14 | Tr cost: 0.688399 | Tr accuracy 0.531250 | Va cost: 0.690452 | Va accuracy: 0.524000\n",
      "Epoch 15 | Tr cost: 0.687575 | Tr accuracy 0.530875 | Va cost: 0.690096 | Va accuracy: 0.524000\n",
      "Epoch 16 | Tr cost: 0.686439 | Tr accuracy 0.530875 | Va cost: 0.689221 | Va accuracy: 0.524000\n",
      "Epoch 17 | Tr cost: 0.684732 | Tr accuracy 0.537000 | Va cost: 0.687467 | Va accuracy: 0.549000\n",
      "Epoch 18 | Tr cost: 0.682922 | Tr accuracy 0.557250 | Va cost: 0.685771 | Va accuracy: 0.557500\n",
      "Epoch 19 | Tr cost: 0.680867 | Tr accuracy 0.559750 | Va cost: 0.683823 | Va accuracy: 0.560000\n",
      "Epoch 20 | Tr cost: 0.678471 | Tr accuracy 0.563750 | Va cost: 0.681098 | Va accuracy: 0.561500\n",
      "Epoch 21 | Tr cost: 0.675595 | Tr accuracy 0.573375 | Va cost: 0.677687 | Va accuracy: 0.574500\n",
      "Epoch 22 | Tr cost: 0.672442 | Tr accuracy 0.576625 | Va cost: 0.674424 | Va accuracy: 0.575500\n",
      "Epoch 23 | Tr cost: 0.669207 | Tr accuracy 0.584000 | Va cost: 0.671441 | Va accuracy: 0.586500\n",
      "Epoch 24 | Tr cost: 0.665913 | Tr accuracy 0.591250 | Va cost: 0.668724 | Va accuracy: 0.586500\n",
      "Epoch 25 | Tr cost: 0.662532 | Tr accuracy 0.597375 | Va cost: 0.666464 | Va accuracy: 0.587000\n",
      "Epoch 26 | Tr cost: 0.659075 | Tr accuracy 0.606500 | Va cost: 0.664488 | Va accuracy: 0.594000\n",
      "Epoch 27 | Tr cost: 0.655585 | Tr accuracy 0.616375 | Va cost: 0.662771 | Va accuracy: 0.595000\n",
      "Epoch 28 | Tr cost: 0.652292 | Tr accuracy 0.619750 | Va cost: 0.660818 | Va accuracy: 0.600000\n",
      "Epoch 29 | Tr cost: 0.649245 | Tr accuracy 0.625375 | Va cost: 0.658906 | Va accuracy: 0.598000\n",
      "Epoch 30 | Tr cost: 0.646424 | Tr accuracy 0.626750 | Va cost: 0.657392 | Va accuracy: 0.604500\n",
      "Epoch 31 | Tr cost: 0.643847 | Tr accuracy 0.631000 | Va cost: 0.656094 | Va accuracy: 0.603000\n",
      "Epoch 32 | Tr cost: 0.641411 | Tr accuracy 0.632000 | Va cost: 0.654674 | Va accuracy: 0.612000\n",
      "Epoch 33 | Tr cost: 0.639012 | Tr accuracy 0.634000 | Va cost: 0.653012 | Va accuracy: 0.613000\n",
      "Epoch 34 | Tr cost: 0.636683 | Tr accuracy 0.636500 | Va cost: 0.651398 | Va accuracy: 0.616500\n",
      "Epoch 35 | Tr cost: 0.634451 | Tr accuracy 0.638875 | Va cost: 0.650135 | Va accuracy: 0.618500\n",
      "Epoch 36 | Tr cost: 0.632352 | Tr accuracy 0.640500 | Va cost: 0.649173 | Va accuracy: 0.616000\n",
      "Epoch 37 | Tr cost: 0.630386 | Tr accuracy 0.643250 | Va cost: 0.648415 | Va accuracy: 0.616500\n",
      "Epoch 38 | Tr cost: 0.628515 | Tr accuracy 0.645500 | Va cost: 0.647820 | Va accuracy: 0.618000\n",
      "Epoch 39 | Tr cost: 0.626631 | Tr accuracy 0.647000 | Va cost: 0.647577 | Va accuracy: 0.614500\n",
      "Epoch 40 | Tr cost: 0.624668 | Tr accuracy 0.649875 | Va cost: 0.647760 | Va accuracy: 0.613500\n",
      "Epoch 41 | Tr cost: 0.622697 | Tr accuracy 0.650625 | Va cost: 0.648365 | Va accuracy: 0.612000\n",
      "Epoch 42 | Tr cost: 0.620759 | Tr accuracy 0.653625 | Va cost: 0.649256 | Va accuracy: 0.613500\n",
      "Epoch 43 | Tr cost: 0.618810 | Tr accuracy 0.658000 | Va cost: 0.650051 | Va accuracy: 0.611000\n",
      "Epoch 44 | Tr cost: 0.616786 | Tr accuracy 0.660625 | Va cost: 0.650593 | Va accuracy: 0.613500\n",
      "Epoch 45 | Tr cost: 0.614702 | Tr accuracy 0.664125 | Va cost: 0.651018 | Va accuracy: 0.615000\n",
      "Epoch 46 | Tr cost: 0.612654 | Tr accuracy 0.664125 | Va cost: 0.651459 | Va accuracy: 0.618500\n",
      "Epoch 47 | Tr cost: 0.610720 | Tr accuracy 0.664375 | Va cost: 0.651889 | Va accuracy: 0.613500\n",
      "Epoch 48 | Tr cost: 0.608877 | Tr accuracy 0.666875 | Va cost: 0.652257 | Va accuracy: 0.615500\n",
      "Epoch 49 | Tr cost: 0.607094 | Tr accuracy 0.670875 | Va cost: 0.652567 | Va accuracy: 0.614000\n",
      "Epoch 50 | Tr cost: 0.605376 | Tr accuracy 0.671000 | Va cost: 0.652902 | Va accuracy: 0.620000\n",
      "Epoch 51 | Tr cost: 0.603701 | Tr accuracy 0.672875 | Va cost: 0.653248 | Va accuracy: 0.616000\n",
      "Epoch 52 | Tr cost: 0.602070 | Tr accuracy 0.674250 | Va cost: 0.653556 | Va accuracy: 0.615500\n",
      "Epoch 53 | Tr cost: 0.600522 | Tr accuracy 0.675250 | Va cost: 0.653858 | Va accuracy: 0.616000\n",
      "Epoch 54 | Tr cost: 0.599062 | Tr accuracy 0.678625 | Va cost: 0.654168 | Va accuracy: 0.622500\n",
      "Epoch 55 | Tr cost: 0.597665 | Tr accuracy 0.680500 | Va cost: 0.654419 | Va accuracy: 0.626000\n",
      "Epoch 56 | Tr cost: 0.596294 | Tr accuracy 0.681500 | Va cost: 0.654512 | Va accuracy: 0.627500\n",
      "Epoch 57 | Tr cost: 0.594897 | Tr accuracy 0.681875 | Va cost: 0.654357 | Va accuracy: 0.625000\n",
      "Epoch 58 | Tr cost: 0.593412 | Tr accuracy 0.685500 | Va cost: 0.653892 | Va accuracy: 0.624000\n",
      "Epoch 59 | Tr cost: 0.591778 | Tr accuracy 0.687625 | Va cost: 0.653068 | Va accuracy: 0.624500\n",
      "Epoch 60 | Tr cost: 0.589998 | Tr accuracy 0.689125 | Va cost: 0.651941 | Va accuracy: 0.629500\n",
      "Epoch 61 | Tr cost: 0.588153 | Tr accuracy 0.691875 | Va cost: 0.650783 | Va accuracy: 0.632000\n",
      "Epoch 62 | Tr cost: 0.586317 | Tr accuracy 0.694250 | Va cost: 0.649983 | Va accuracy: 0.633000\n",
      "Epoch 63 | Tr cost: 0.584492 | Tr accuracy 0.693750 | Va cost: 0.649731 | Va accuracy: 0.632500\n",
      "Epoch 64 | Tr cost: 0.582697 | Tr accuracy 0.696250 | Va cost: 0.650053 | Va accuracy: 0.631500\n",
      "Epoch 65 | Tr cost: 0.581060 | Tr accuracy 0.698500 | Va cost: 0.650518 | Va accuracy: 0.635000\n",
      "Epoch 66 | Tr cost: 0.579635 | Tr accuracy 0.700125 | Va cost: 0.650651 | Va accuracy: 0.635500\n",
      "Epoch 67 | Tr cost: 0.578295 | Tr accuracy 0.701250 | Va cost: 0.650609 | Va accuracy: 0.633500\n",
      "Epoch 68 | Tr cost: 0.576942 | Tr accuracy 0.702500 | Va cost: 0.650722 | Va accuracy: 0.634000\n",
      "Epoch 69 | Tr cost: 0.575504 | Tr accuracy 0.704000 | Va cost: 0.651036 | Va accuracy: 0.633000\n",
      "Epoch 70 | Tr cost: 0.574082 | Tr accuracy 0.704750 | Va cost: 0.651604 | Va accuracy: 0.633500\n",
      "Epoch 71 | Tr cost: 0.572790 | Tr accuracy 0.703875 | Va cost: 0.652161 | Va accuracy: 0.635000\n",
      "Epoch 72 | Tr cost: 0.571584 | Tr accuracy 0.705750 | Va cost: 0.652367 | Va accuracy: 0.636500\n",
      "Epoch 73 | Tr cost: 0.570459 | Tr accuracy 0.706875 | Va cost: 0.652462 | Va accuracy: 0.636500\n",
      "Epoch 74 | Tr cost: 0.569435 | Tr accuracy 0.708750 | Va cost: 0.652619 | Va accuracy: 0.636500\n",
      "Epoch 75 | Tr cost: 0.568506 | Tr accuracy 0.708250 | Va cost: 0.652682 | Va accuracy: 0.636000\n",
      "Epoch 76 | Tr cost: 0.567642 | Tr accuracy 0.708125 | Va cost: 0.652643 | Va accuracy: 0.635500\n",
      "Epoch 77 | Tr cost: 0.566813 | Tr accuracy 0.708375 | Va cost: 0.652619 | Va accuracy: 0.634000\n",
      "Epoch 78 | Tr cost: 0.566002 | Tr accuracy 0.707750 | Va cost: 0.652684 | Va accuracy: 0.636500\n",
      "Epoch 79 | Tr cost: 0.565194 | Tr accuracy 0.707500 | Va cost: 0.652811 | Va accuracy: 0.636500\n",
      "Epoch 80 | Tr cost: 0.564394 | Tr accuracy 0.708375 | Va cost: 0.652926 | Va accuracy: 0.635500\n",
      "Epoch 81 | Tr cost: 0.563617 | Tr accuracy 0.710000 | Va cost: 0.653024 | Va accuracy: 0.638500\n",
      "Epoch 82 | Tr cost: 0.562875 | Tr accuracy 0.712500 | Va cost: 0.653167 | Va accuracy: 0.640000\n",
      "Epoch 83 | Tr cost: 0.562170 | Tr accuracy 0.713500 | Va cost: 0.653393 | Va accuracy: 0.636500\n",
      "Epoch 84 | Tr cost: 0.561504 | Tr accuracy 0.714000 | Va cost: 0.653687 | Va accuracy: 0.636500\n",
      "Epoch 85 | Tr cost: 0.560865 | Tr accuracy 0.715125 | Va cost: 0.654017 | Va accuracy: 0.634500\n",
      "Epoch 86 | Tr cost: 0.560241 | Tr accuracy 0.715125 | Va cost: 0.654363 | Va accuracy: 0.635500\n"
     ]
    },
    {
     "name": "stdout",
     "output_type": "stream",
     "text": [
      "Epoch 87 | Tr cost: 0.559626 | Tr accuracy 0.715250 | Va cost: 0.654720 | Va accuracy: 0.633500\n",
      "Epoch 88 | Tr cost: 0.559013 | Tr accuracy 0.716750 | Va cost: 0.655091 | Va accuracy: 0.635000\n",
      "Epoch 89 | Tr cost: 0.558402 | Tr accuracy 0.716250 | Va cost: 0.655475 | Va accuracy: 0.638000\n",
      "Epoch 90 | Tr cost: 0.557797 | Tr accuracy 0.717125 | Va cost: 0.655881 | Va accuracy: 0.635000\n",
      "Epoch 91 | Tr cost: 0.557203 | Tr accuracy 0.717125 | Va cost: 0.656336 | Va accuracy: 0.634000\n",
      "Epoch 92 | Tr cost: 0.556621 | Tr accuracy 0.716500 | Va cost: 0.656894 | Va accuracy: 0.633500\n",
      "Epoch 93 | Tr cost: 0.556067 | Tr accuracy 0.716375 | Va cost: 0.657528 | Va accuracy: 0.631500\n",
      "Epoch 94 | Tr cost: 0.555545 | Tr accuracy 0.718125 | Va cost: 0.658105 | Va accuracy: 0.633500\n",
      "Epoch 95 | Tr cost: 0.555030 | Tr accuracy 0.719125 | Va cost: 0.658529 | Va accuracy: 0.634000\n",
      "Epoch 96 | Tr cost: 0.554512 | Tr accuracy 0.719125 | Va cost: 0.658804 | Va accuracy: 0.635500\n",
      "Epoch 97 | Tr cost: 0.554003 | Tr accuracy 0.720125 | Va cost: 0.659035 | Va accuracy: 0.636500\n",
      "Epoch 98 | Tr cost: 0.553521 | Tr accuracy 0.721375 | Va cost: 0.659325 | Va accuracy: 0.637500\n",
      "Epoch 99 | Tr cost: 0.553070 | Tr accuracy 0.721375 | Va cost: 0.659688 | Va accuracy: 0.638000\n",
      "Epoch 100 | Tr cost: 0.552636 | Tr accuracy 0.720625 | Va cost: 0.660087 | Va accuracy: 0.636000\n",
      "Epoch 101 | Tr cost: 0.552208 | Tr accuracy 0.720750 | Va cost: 0.660492 | Va accuracy: 0.635000\n",
      "Epoch 102 | Tr cost: 0.551787 | Tr accuracy 0.720000 | Va cost: 0.660902 | Va accuracy: 0.634500\n",
      "Epoch 103 | Tr cost: 0.551373 | Tr accuracy 0.720750 | Va cost: 0.661324 | Va accuracy: 0.634500\n",
      "Epoch 104 | Tr cost: 0.550964 | Tr accuracy 0.721000 | Va cost: 0.661749 | Va accuracy: 0.635500\n",
      "Epoch 105 | Tr cost: 0.550557 | Tr accuracy 0.721750 | Va cost: 0.662167 | Va accuracy: 0.637000\n",
      "Epoch 106 | Tr cost: 0.550154 | Tr accuracy 0.722375 | Va cost: 0.662573 | Va accuracy: 0.638500\n",
      "Epoch 107 | Tr cost: 0.549756 | Tr accuracy 0.723250 | Va cost: 0.662969 | Va accuracy: 0.638000\n",
      "Epoch 108 | Tr cost: 0.549364 | Tr accuracy 0.724375 | Va cost: 0.663367 | Va accuracy: 0.637000\n",
      "Epoch 109 | Tr cost: 0.548974 | Tr accuracy 0.724500 | Va cost: 0.663779 | Va accuracy: 0.637500\n",
      "Epoch 110 | Tr cost: 0.548583 | Tr accuracy 0.725750 | Va cost: 0.664217 | Va accuracy: 0.639500\n",
      "Epoch 111 | Tr cost: 0.548190 | Tr accuracy 0.726000 | Va cost: 0.664686 | Va accuracy: 0.639000\n",
      "Epoch 112 | Tr cost: 0.547794 | Tr accuracy 0.725000 | Va cost: 0.665186 | Va accuracy: 0.640500\n",
      "Epoch 113 | Tr cost: 0.547394 | Tr accuracy 0.725875 | Va cost: 0.665718 | Va accuracy: 0.639500\n",
      "Epoch 114 | Tr cost: 0.546992 | Tr accuracy 0.726000 | Va cost: 0.666279 | Va accuracy: 0.638500\n",
      "Epoch 115 | Tr cost: 0.546589 | Tr accuracy 0.726000 | Va cost: 0.666866 | Va accuracy: 0.637000\n",
      "Epoch 116 | Tr cost: 0.546186 | Tr accuracy 0.726250 | Va cost: 0.667468 | Va accuracy: 0.638000\n",
      "Epoch 117 | Tr cost: 0.545788 | Tr accuracy 0.726500 | Va cost: 0.668072 | Va accuracy: 0.637000\n",
      "Epoch 118 | Tr cost: 0.545392 | Tr accuracy 0.727000 | Va cost: 0.668657 | Va accuracy: 0.638500\n",
      "Epoch 119 | Tr cost: 0.544998 | Tr accuracy 0.727625 | Va cost: 0.669210 | Va accuracy: 0.642000\n",
      "Epoch 120 | Tr cost: 0.544605 | Tr accuracy 0.727750 | Va cost: 0.669722 | Va accuracy: 0.642500\n",
      "Epoch 121 | Tr cost: 0.544213 | Tr accuracy 0.727875 | Va cost: 0.670187 | Va accuracy: 0.643000\n",
      "Epoch 122 | Tr cost: 0.543824 | Tr accuracy 0.727875 | Va cost: 0.670603 | Va accuracy: 0.642000\n",
      "Epoch 123 | Tr cost: 0.543437 | Tr accuracy 0.728500 | Va cost: 0.670978 | Va accuracy: 0.643000\n",
      "Epoch 124 | Tr cost: 0.543053 | Tr accuracy 0.729500 | Va cost: 0.671319 | Va accuracy: 0.643500\n",
      "Epoch 125 | Tr cost: 0.542672 | Tr accuracy 0.729250 | Va cost: 0.671634 | Va accuracy: 0.645000\n",
      "Epoch 126 | Tr cost: 0.542293 | Tr accuracy 0.729875 | Va cost: 0.671926 | Va accuracy: 0.644500\n",
      "Epoch 127 | Tr cost: 0.541916 | Tr accuracy 0.729750 | Va cost: 0.672197 | Va accuracy: 0.645000\n",
      "Epoch 128 | Tr cost: 0.541539 | Tr accuracy 0.730375 | Va cost: 0.672446 | Va accuracy: 0.645500\n",
      "Epoch 129 | Tr cost: 0.541159 | Tr accuracy 0.730625 | Va cost: 0.672679 | Va accuracy: 0.646000\n",
      "Epoch 130 | Tr cost: 0.540774 | Tr accuracy 0.730500 | Va cost: 0.672904 | Va accuracy: 0.646000\n",
      "Epoch 131 | Tr cost: 0.540381 | Tr accuracy 0.729875 | Va cost: 0.673134 | Va accuracy: 0.646500\n",
      "Epoch 132 | Tr cost: 0.539984 | Tr accuracy 0.730250 | Va cost: 0.673384 | Va accuracy: 0.646500\n",
      "Epoch 133 | Tr cost: 0.539588 | Tr accuracy 0.730875 | Va cost: 0.673658 | Va accuracy: 0.645500\n",
      "Epoch 134 | Tr cost: 0.539194 | Tr accuracy 0.731250 | Va cost: 0.673966 | Va accuracy: 0.646000\n",
      "Epoch 135 | Tr cost: 0.538803 | Tr accuracy 0.731250 | Va cost: 0.674323 | Va accuracy: 0.647000\n",
      "Epoch 136 | Tr cost: 0.538414 | Tr accuracy 0.730500 | Va cost: 0.674715 | Va accuracy: 0.646000\n",
      "Epoch 137 | Tr cost: 0.538018 | Tr accuracy 0.730500 | Va cost: 0.675122 | Va accuracy: 0.646500\n",
      "Epoch 138 | Tr cost: 0.537620 | Tr accuracy 0.730625 | Va cost: 0.675542 | Va accuracy: 0.648500\n",
      "Epoch 139 | Tr cost: 0.537226 | Tr accuracy 0.730875 | Va cost: 0.675960 | Va accuracy: 0.647500\n",
      "Epoch 140 | Tr cost: 0.536837 | Tr accuracy 0.730875 | Va cost: 0.676374 | Va accuracy: 0.646000\n",
      "Epoch 141 | Tr cost: 0.536451 | Tr accuracy 0.731875 | Va cost: 0.676804 | Va accuracy: 0.646000\n",
      "Epoch 142 | Tr cost: 0.536066 | Tr accuracy 0.731375 | Va cost: 0.677253 | Va accuracy: 0.646500\n",
      "Epoch 143 | Tr cost: 0.535687 | Tr accuracy 0.731750 | Va cost: 0.677708 | Va accuracy: 0.646500\n",
      "Epoch 144 | Tr cost: 0.535314 | Tr accuracy 0.732875 | Va cost: 0.678160 | Va accuracy: 0.647000\n",
      "Epoch 145 | Tr cost: 0.534947 | Tr accuracy 0.732875 | Va cost: 0.678612 | Va accuracy: 0.647000\n",
      "Epoch 146 | Tr cost: 0.534588 | Tr accuracy 0.733375 | Va cost: 0.679066 | Va accuracy: 0.645500\n",
      "Epoch 147 | Tr cost: 0.534235 | Tr accuracy 0.734250 | Va cost: 0.679526 | Va accuracy: 0.644500\n",
      "Epoch 148 | Tr cost: 0.533888 | Tr accuracy 0.734750 | Va cost: 0.679987 | Va accuracy: 0.644500\n",
      "Epoch 149 | Tr cost: 0.533547 | Tr accuracy 0.734875 | Va cost: 0.680443 | Va accuracy: 0.645000\n",
      "Epoch 150 | Tr cost: 0.533214 | Tr accuracy 0.735250 | Va cost: 0.680892 | Va accuracy: 0.644000\n",
      "Epoch 151 | Tr cost: 0.532888 | Tr accuracy 0.735625 | Va cost: 0.681343 | Va accuracy: 0.643000\n",
      "Epoch 152 | Tr cost: 0.532570 | Tr accuracy 0.736125 | Va cost: 0.681801 | Va accuracy: 0.643000\n",
      "Epoch 153 | Tr cost: 0.532257 | Tr accuracy 0.736750 | Va cost: 0.682271 | Va accuracy: 0.641500\n",
      "Epoch 154 | Tr cost: 0.531949 | Tr accuracy 0.736875 | Va cost: 0.682752 | Va accuracy: 0.643500\n",
      "Epoch 155 | Tr cost: 0.531650 | Tr accuracy 0.736750 | Va cost: 0.683238 | Va accuracy: 0.643000\n",
      "Epoch 156 | Tr cost: 0.531361 | Tr accuracy 0.737125 | Va cost: 0.683723 | Va accuracy: 0.641500\n",
      "Epoch 157 | Tr cost: 0.531084 | Tr accuracy 0.737750 | Va cost: 0.684201 | Va accuracy: 0.641500\n",
      "Epoch 158 | Tr cost: 0.530821 | Tr accuracy 0.737500 | Va cost: 0.684670 | Va accuracy: 0.642000\n",
      "Epoch 159 | Tr cost: 0.530571 | Tr accuracy 0.737750 | Va cost: 0.685130 | Va accuracy: 0.640500\n",
      "Epoch 160 | Tr cost: 0.530335 | Tr accuracy 0.737625 | Va cost: 0.685583 | Va accuracy: 0.641000\n",
      "Epoch 161 | Tr cost: 0.530114 | Tr accuracy 0.738625 | Va cost: 0.686028 | Va accuracy: 0.640000\n",
      "Epoch 162 | Tr cost: 0.529908 | Tr accuracy 0.739125 | Va cost: 0.686465 | Va accuracy: 0.640500\n",
      "Epoch 163 | Tr cost: 0.529718 | Tr accuracy 0.739500 | Va cost: 0.686893 | Va accuracy: 0.640000\n",
      "Epoch 164 | Tr cost: 0.529547 | Tr accuracy 0.740125 | Va cost: 0.687311 | Va accuracy: 0.639500\n",
      "Epoch 165 | Tr cost: 0.529397 | Tr accuracy 0.739625 | Va cost: 0.687717 | Va accuracy: 0.639000\n",
      "Epoch 166 | Tr cost: 0.529271 | Tr accuracy 0.740125 | Va cost: 0.688108 | Va accuracy: 0.639500\n",
      "Epoch 167 | Tr cost: 0.529174 | Tr accuracy 0.740125 | Va cost: 0.688478 | Va accuracy: 0.639500\n",
      "Epoch 168 | Tr cost: 0.529117 | Tr accuracy 0.739750 | Va cost: 0.688810 | Va accuracy: 0.639000\n",
      "Epoch 169 | Tr cost: 0.529124 | Tr accuracy 0.740125 | Va cost: 0.689081 | Va accuracy: 0.639500\n",
      "Epoch 170 | Tr cost: 0.529226 | Tr accuracy 0.738875 | Va cost: 0.689263 | Va accuracy: 0.639500\n",
      "Epoch 171 | Tr cost: 0.529473 | Tr accuracy 0.739125 | Va cost: 0.689323 | Va accuracy: 0.638500\n"
     ]
    },
    {
     "name": "stdout",
     "output_type": "stream",
     "text": [
      "Epoch 172 | Tr cost: 0.529948 | Tr accuracy 0.738000 | Va cost: 0.689234 | Va accuracy: 0.639500\n",
      "Epoch 173 | Tr cost: 0.530780 | Tr accuracy 0.737500 | Va cost: 0.688994 | Va accuracy: 0.640500\n",
      "Epoch 174 | Tr cost: 0.532181 | Tr accuracy 0.737375 | Va cost: 0.688786 | Va accuracy: 0.640500\n",
      "Epoch 175 | Tr cost: 0.534467 | Tr accuracy 0.738125 | Va cost: 0.689713 | Va accuracy: 0.639500\n",
      "Epoch 176 | Tr cost: 0.537920 | Tr accuracy 0.738000 | Va cost: 0.695934 | Va accuracy: 0.633500\n",
      "Epoch 177 | Tr cost: 0.542534 | Tr accuracy 0.734375 | Va cost: 0.714668 | Va accuracy: 0.615500\n",
      "Epoch 178 | Tr cost: 0.549861 | Tr accuracy 0.729375 | Va cost: 0.729142 | Va accuracy: 0.608500\n",
      "Epoch 179 | Tr cost: 0.560570 | Tr accuracy 0.713875 | Va cost: 0.697062 | Va accuracy: 0.624500\n",
      "Epoch 180 | Tr cost: 0.555192 | Tr accuracy 0.718000 | Va cost: 0.687141 | Va accuracy: 0.635500\n",
      "Epoch 181 | Tr cost: 0.540466 | Tr accuracy 0.728000 | Va cost: 0.701477 | Va accuracy: 0.630500\n",
      "Epoch 182 | Tr cost: 0.535246 | Tr accuracy 0.733625 | Va cost: 0.688330 | Va accuracy: 0.638000\n",
      "Epoch 183 | Tr cost: 0.529468 | Tr accuracy 0.741750 | Va cost: 0.685954 | Va accuracy: 0.635000\n",
      "Epoch 184 | Tr cost: 0.529418 | Tr accuracy 0.740125 | Va cost: 0.691460 | Va accuracy: 0.636500\n",
      "Epoch 185 | Tr cost: 0.533296 | Tr accuracy 0.734375 | Va cost: 0.686399 | Va accuracy: 0.638000\n",
      "Epoch 186 | Tr cost: 0.530921 | Tr accuracy 0.735875 | Va cost: 0.687220 | Va accuracy: 0.638500\n",
      "Epoch 187 | Tr cost: 0.526443 | Tr accuracy 0.738500 | Va cost: 0.691510 | Va accuracy: 0.641000\n",
      "Epoch 188 | Tr cost: 0.523889 | Tr accuracy 0.744500 | Va cost: 0.690575 | Va accuracy: 0.642000\n",
      "Epoch 189 | Tr cost: 0.522703 | Tr accuracy 0.745625 | Va cost: 0.689086 | Va accuracy: 0.639500\n",
      "Epoch 190 | Tr cost: 0.522978 | Tr accuracy 0.744750 | Va cost: 0.690418 | Va accuracy: 0.637500\n",
      "Epoch 191 | Tr cost: 0.524435 | Tr accuracy 0.742125 | Va cost: 0.691621 | Va accuracy: 0.637500\n",
      "Epoch 192 | Tr cost: 0.525340 | Tr accuracy 0.741875 | Va cost: 0.691391 | Va accuracy: 0.639000\n",
      "Epoch 193 | Tr cost: 0.524601 | Tr accuracy 0.741500 | Va cost: 0.691986 | Va accuracy: 0.637000\n",
      "Epoch 194 | Tr cost: 0.523108 | Tr accuracy 0.741500 | Va cost: 0.693240 | Va accuracy: 0.637500\n",
      "Epoch 195 | Tr cost: 0.521748 | Tr accuracy 0.743750 | Va cost: 0.694089 | Va accuracy: 0.638500\n",
      "Epoch 196 | Tr cost: 0.520911 | Tr accuracy 0.745375 | Va cost: 0.693926 | Va accuracy: 0.635500\n",
      "Epoch 197 | Tr cost: 0.520694 | Tr accuracy 0.745250 | Va cost: 0.694305 | Va accuracy: 0.634500\n",
      "Epoch 198 | Tr cost: 0.521063 | Tr accuracy 0.744250 | Va cost: 0.695104 | Va accuracy: 0.637500\n",
      "Epoch 199 | Tr cost: 0.521685 | Tr accuracy 0.744750 | Va cost: 0.695931 | Va accuracy: 0.640000\n",
      "Epoch 200 | Tr cost: 0.522087 | Tr accuracy 0.743375 | Va cost: 0.696163 | Va accuracy: 0.639500\n"
     ]
    }
   ],
   "source": [
    "training_costs, validation_costs, training_accs, validation_accs, test_predictions = train_nn()"
   ]
  },
  {
   "cell_type": "code",
   "execution_count": 118,
   "metadata": {
    "deletable": false,
    "editable": false,
    "nbgrader": {
     "grade": true,
     "grade_id": "typechecks_v",
     "locked": true,
     "points": "5",
     "schema_version": 1,
     "solution": false
    }
   },
   "outputs": [],
   "source": [
    "## making sure your train_nn() function returns variables as expected\n",
    "assert type(training_accs)==list,\"incorrect return type\"\n",
    "assert type(validation_accs)==list, \"incorrect return type\"\n",
    "assert type(training_costs)==list, \"incorrect return type\"\n",
    "assert type(validation_costs)==list,\"incorrect return type\"\n",
    "assert type(test_predictions[0])==type(training_accs[0])==type(validation_accs[0])==type(training_costs[0])==type(validation_costs[0])==np.float64, \"incorrect return type\"\n",
    "assert len(training_accs)==len(validation_accs)==len(training_costs)==len(validation_costs)==training_epochs,\"incorrect returned lengths\"\n",
    "assert len(test_predictions)==len(test_features),\"incorrect returned lengths\""
   ]
  },
  {
   "cell_type": "markdown",
   "metadata": {
    "deletable": false,
    "editable": false,
    "nbgrader": {
     "grade": false,
     "grade_id": "cell-4ed33d0856316a08",
     "locked": true,
     "schema_version": 1,
     "solution": false
    }
   },
   "source": [
    "### Analyzing cost and accuracy trends vs number of epochs"
   ]
  },
  {
   "cell_type": "code",
   "execution_count": 119,
   "metadata": {
    "collapsed": true,
    "deletable": false,
    "editable": false,
    "nbgrader": {
     "grade": false,
     "grade_id": "cell-450747d7f0431e00",
     "locked": true,
     "schema_version": 1,
     "solution": false
    },
    "scrolled": false
   },
   "outputs": [],
   "source": [
    "def plot_cost_vs_epochs(training_costs, validation_costs):\n",
    "    plt.title(\"cost vs epochs\")\n",
    "    plt.plot(training_costs)\n",
    "    plt.plot(validation_costs)\n",
    "    plt.legend([\"training\",\"validation\"])"
   ]
  },
  {
   "cell_type": "code",
   "execution_count": 120,
   "metadata": {
    "collapsed": true,
    "deletable": false,
    "editable": false,
    "nbgrader": {
     "grade": false,
     "grade_id": "cell-78d0e31f3ed4005e",
     "locked": true,
     "schema_version": 1,
     "solution": false
    },
    "scrolled": true
   },
   "outputs": [],
   "source": [
    "def plot_acc_vs_epochs(training_acc, validation_acc):\n",
    "    plt.title(\"accuracy vs epochs\")\n",
    "    plt.plot(training_acc)\n",
    "    plt.plot(validation_acc)\n",
    "    plt.legend([\"training\",\"validation\"])"
   ]
  },
  {
   "cell_type": "code",
   "execution_count": 121,
   "metadata": {
    "collapsed": true,
    "deletable": false,
    "editable": false,
    "nbgrader": {
     "grade": false,
     "grade_id": "cell-5f2c5d57928f7a69",
     "locked": true,
     "schema_version": 1,
     "solution": false
    }
   },
   "outputs": [],
   "source": [
    "\n",
    "def plots(training_costs, validation_costs, training_accs, validation_accs):\n",
    "    \n",
    "    fig = plt.figure(figsize=(20,10))\n",
    "    \n",
    "    plt.subplot(1,2,1)\n",
    "    plot_cost_vs_epochs(training_costs, validation_costs)\n",
    "    plt.subplot(1,2,2)\n",
    "    plot_acc_vs_epochs(training_accs, validation_accs)"
   ]
  },
  {
   "cell_type": "code",
   "execution_count": 122,
   "metadata": {},
   "outputs": [
    {
     "data": {
      "image/png": "[encoded data removed]",
      "text/plain": [
       "<Figure size 1440x720 with 2 Axes>"
      ]
     },
     "metadata": {},
     "output_type": "display_data"
    }
   ],
   "source": [
    "plots(training_costs, validation_costs, training_accs, validation_accs)"
   ]
  },
  {
   "cell_type": "markdown",
   "metadata": {
    "deletable": false,
    "editable": false,
    "nbgrader": {
     "grade": false,
     "grade_id": "cell-7e48102290dfc483",
     "locked": true,
     "schema_version": 1,
     "solution": false
    }
   },
   "source": [
    "### Scoring Your Test Predictions\n",
    "\n",
    "The following code saves your test predictions locally in the same directory.\n",
    "\n",
    "It is required in order to give you a grade based on your network's performance."
   ]
  },
  {
   "cell_type": "code",
   "execution_count": 123,
   "metadata": {
    "collapsed": true,
    "deletable": false,
    "editable": false,
    "nbgrader": {
     "grade": false,
     "grade_id": "cell-9130fc95b3adda93",
     "locked": true,
     "schema_version": 1,
     "solution": false
    }
   },
   "outputs": [],
   "source": [
    "import pickle\n",
    "def save_test_predictions(test_predictions):\n",
    "     with open(cfg['output_predictions_pickle_path'], 'wb') as f:\n",
    "        pickle.dump(test_predictions, f)\n",
    "save_test_predictions(test_predictions)"
   ]
  },
  {
   "cell_type": "code",
   "execution_count": 37,
   "metadata": {
    "deletable": false,
    "editable": false,
    "nbgrader": {
     "grade": true,
     "grade_id": "threshold1_h",
     "locked": true,
     "points": "5",
     "schema_version": 1,
     "solution": false
    },
    "scrolled": true
   },
   "outputs": [
    {
     "name": "stdout",
     "output_type": "stream",
     "text": [
      "0.731575\n",
      " \n"
     ]
    }
   ],
   "source": [
    "#Hidden tests here\n",
    "###\n",
    "### AUTOGRADER TEST - DO NOT REMOVE\n",
    "###\n"
   ]
  },
  {
   "cell_type": "code",
   "execution_count": 38,
   "metadata": {
    "deletable": false,
    "editable": false,
    "nbgrader": {
     "grade": true,
     "grade_id": "threshold2_h",
     "locked": true,
     "points": "10",
     "schema_version": 1,
     "solution": false
    }
   },
   "outputs": [
    {
     "name": "stdout",
     "output_type": "stream",
     "text": [
      "0.731575\n",
      " \n"
     ]
    }
   ],
   "source": [
    "#Hidden tests here\n",
    "###\n",
    "### AUTOGRADER TEST - DO NOT REMOVE\n",
    "###\n"
   ]
  },
  {
   "cell_type": "code",
   "execution_count": 39,
   "metadata": {
    "deletable": false,
    "editable": false,
    "nbgrader": {
     "grade": true,
     "grade_id": "threshold3_h",
     "locked": true,
     "points": "15",
     "schema_version": 1,
     "solution": false
    }
   },
   "outputs": [
    {
     "name": "stdout",
     "output_type": "stream",
     "text": [
      "0.731575\n",
      " \n"
     ]
    }
   ],
   "source": [
    "#Hidden tests here\n",
    "###\n",
    "### AUTOGRADER TEST - DO NOT REMOVE\n",
    "###\n"
   ]
  },
  {
   "cell_type": "code",
   "execution_count": 40,
   "metadata": {
    "deletable": false,
    "editable": false,
    "nbgrader": {
     "grade": true,
     "grade_id": "threshold4_h",
     "locked": true,
     "points": "20",
     "schema_version": 1,
     "solution": false
    },
    "scrolled": true
   },
   "outputs": [
    {
     "name": "stdout",
     "output_type": "stream",
     "text": [
      "0.734055\n",
      " \n"
     ]
    }
   ],
   "source": [
    "#Hidden tests here\n",
    "###\n",
    "### AUTOGRADER TEST - DO NOT REMOVE\n",
    "###\n"
   ]
  }
 ],
 "metadata": {
  "celltoolbar": "Edit Metadata",
  "kernelspec": {
   "display_name": "Python 3 [3.6]",
   "language": "python",
   "name": "python3"
  },
  "language_info": {
   "codemirror_mode": {
    "name": "ipython",
    "version": 3
   },
   "file_extension": ".py",
   "mimetype": "text/x-python",
   "name": "python",
   "nbconvert_exporter": "python",
   "pygments_lexer": "ipython3",
   "version": "3.6.4"
  },
  "toc": {
   "base_numbering": 1,
   "nav_menu": [],
   "number_sections": true,
   "sideBar": true,
   "skip_h1_title": false,
   "title_cell": "Table of Contents",
   "title_sidebar": "Contents",
   "toc_cell": false,
   "toc_position": [],
   "toc_section_display": true,
   "toc_window_display": true
  },
  "varInspector": {
   "cols": {
    "lenName": 16,
    "lenType": 16,
    "lenVar": 40
   },
   "kernels_config": {
    "python": {
     "delete_cmd_postfix": "",
     "delete_cmd_prefix": "del ",
     "library": "var_list.py",
     "varRefreshCmd": "print(var_dic_list())"
    },
    "r": {
     "delete_cmd_postfix": ") ",
     "delete_cmd_prefix": "rm(",
     "library": "var_list.r",
     "varRefreshCmd": "cat(var_dic_list()) "
    }
   },
   "types_to_exclude": [
    "module",
    "function",
    "builtin_function_or_method",
    "instance",
    "_Feature"
   ],
   "window_display": false
  }
 },
 "nbformat": 4,
 "nbformat_minor": 2
}
